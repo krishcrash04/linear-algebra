{
  "cells": [
    {
      "cell_type": "markdown",
      "metadata": {
        "id": "-9SXHoe-TPV6"
      },
      "source": [
        "[![Open In Colab](https://colab.research.google.com/assets/colab-badge.svg)](https://colab.research.google.com/github/black-swan-event/linear-algebra/blob/main/src/test-notebook-one.ipynb)\n"
      ]
    },
    {
      "cell_type": "code",
      "execution_count": 2,
      "metadata": {
        "colab": {
          "base_uri": "https://localhost:8080/",
          "height": 35
        },
        "id": "ZOPLSvCwTPWC",
        "outputId": "c51edae6-6355-475c-8414-19a3e4adf92b"
      },
      "outputs": [
        {
          "output_type": "execute_result",
          "data": {
            "text/plain": [
              "'beans'"
            ],
            "application/vnd.google.colaboratory.intrinsic+json": {
              "type": "string"
            }
          },
          "metadata": {},
          "execution_count": 2
        }
      ],
      "source": [
        "# Run this cell\n",
        "# bEaNs\n",
        "\"beans\""
      ]
    },
    {
      "cell_type": "markdown",
      "metadata": {
        "id": "f3Hwx2n8TPWF"
      },
      "source": [
        "Make the following changes to this notebook and save it to your Github account titled `linear-algebra`"
      ]
    },
    {
      "cell_type": "markdown",
      "metadata": {
        "id": "b2NwclpvTPWG"
      },
      "source": [
        "1.  Create a Python cell that adds 2 + 2 and run for the output.\n",
        "2.  Create a markdown cell that provides the opening line to Tennyson's poem `Ulysses`"
      ]
    },
    {
      "cell_type": "markdown",
      "metadata": {
        "id": "sYvQ-oyoTPWH"
      },
      "source": []
    }
  ],
  "metadata": {
    "kernelspec": {
      "display_name": "argparse-regex-pytest-env",
      "language": "python",
      "name": "python3"
    },
    "language_info": {
      "codemirror_mode": {
        "name": "ipython",
        "version": 3
      },
      "file_extension": ".py",
      "mimetype": "text/x-python",
      "name": "python",
      "nbconvert_exporter": "python",
      "pygments_lexer": "ipython3",
      "version": "3.11.2"
    },
    "orig_nbformat": 4,
    "colab": {
      "provenance": []
    }
  },
  "nbformat": 4,
  "nbformat_minor": 0
}