{
  "cells": [
    {
      "cell_type": "markdown",
      "metadata": {
        "id": "view-in-github",
        "colab_type": "text"
      },
      "source": [
        "<a href=\"https://colab.research.google.com/github/krishcrash04/linear-algebra/blob/main/src/test-notebook-one.ipynb\" target=\"_parent\"><img src=\"https://colab.research.google.com/assets/colab-badge.svg\" alt=\"Open In Colab\"/></a>"
      ]
    },
    {
      "cell_type": "markdown",
      "metadata": {
        "id": "-9SXHoe-TPV6"
      },
      "source": [
        "[![Open In Colab](https://colab.research.google.com/assets/colab-badge.svg)](https://colab.research.google.com/github/black-swan-event/linear-algebra/blob/main/src/test-notebook-one.ipynb)\n"
      ]
    },
    {
      "cell_type": "code",
      "execution_count": null,
      "metadata": {
        "id": "ZOPLSvCwTPWC"
      },
      "outputs": [],
      "source": [
        "# Run this cell\n",
        "\"hello\""
      ]
    },
    {
      "cell_type": "markdown",
      "metadata": {
        "id": "f3Hwx2n8TPWF"
      },
      "source": [
        "Make the following changes to this notebook and save it to your Github account titled `linear-algebra`"
      ]
    },
    {
      "cell_type": "markdown",
      "metadata": {
        "id": "b2NwclpvTPWG"
      },
      "source": [
        "1.  Create a Python cell that adds 2 + 2 and run for the output.\n",
        "2.  Create a markdown cell that provides the opening line to Tennyson's poem `Ulysses`"
      ]
    },
    {
      "cell_type": "markdown",
      "metadata": {
        "id": "sYvQ-oyoTPWH"
      },
      "source": []
    }
  ],
  "metadata": {
    "kernelspec": {
      "display_name": "argparse-regex-pytest-env",
      "language": "python",
      "name": "python3"
    },
    "language_info": {
      "codemirror_mode": {
        "name": "ipython",
        "version": 3
      },
      "file_extension": ".py",
      "mimetype": "text/x-python",
      "name": "python",
      "nbconvert_exporter": "python",
      "pygments_lexer": "ipython3",
      "version": "3.11.2"
    },
    "orig_nbformat": 4,
    "colab": {
      "provenance": [],
      "include_colab_link": true
    }
  },
  "nbformat": 4,
  "nbformat_minor": 0
}